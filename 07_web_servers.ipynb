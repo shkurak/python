{
 "cells": [
  {
   "cell_type": "markdown",
   "metadata": {
    "slideshow": {
     "slide_type": "slide"
    }
   },
   "source": [
    "<h1><center>Python</center></h1>\n",
    "\n",
    "<h2><center>Lecture 7 </center></h2>\n",
    "<br>\n",
    "<center>KYIV ACADEMIC UNIVERSITY</center>\n",
    "<br>\n",
    "<br>\n",
    "<br>\n",
    "<p style='text-align: right;'> by Ivan Shkurak</p>"
   ]
  },
  {
   "cell_type": "markdown",
   "metadata": {
    "slideshow": {
     "slide_type": "slide"
    }
   },
   "source": [
    "# Today we will talk about\n"
   ]
  },
  {
   "cell_type": "markdown",
   "metadata": {
    "slideshow": {
     "slide_type": "fragment"
    }
   },
   "source": [
    "- Git\n",
    "- Web server\n",
    "- Where host your services"
   ]
  },
  {
   "cell_type": "markdown",
   "metadata": {
    "slideshow": {
     "slide_type": "slide"
    }
   },
   "source": [
    "# Git\n",
    "- https://learngitbranching.js.org/\n",
    "- https://livecodestream.dev/post/2020-08-21-git-concepts-and-workflow-for-beginners/\n",
    "<center><img src=\"pics/git_merge.png\" width=\"800\" height=\"800\"/></center>"
   ]
  },
  {
   "cell_type": "markdown",
   "metadata": {
    "slideshow": {
     "slide_type": "slide"
    }
   },
   "source": [
    "## Main comands"
   ]
  },
  {
   "cell_type": "code",
   "execution_count": null,
   "metadata": {},
   "outputs": [],
   "source": [
    "git clone https://github.com/twbs/bootstrap.git\n",
    "git init\n",
    "git status\n",
    "git add .\n",
    "git commit -m \"come message\"\n",
    "git remote add origin https://github.com/twbs/bootstrap.git\n",
    "git push origin master\n",
    "git pull origin master"
   ]
  },
  {
   "cell_type": "markdown",
   "metadata": {
    "slideshow": {
     "slide_type": "slide"
    }
   },
   "source": [
    "# Web server\n",
    "<center><img src=\"pics/web-browser-server-requests.png\" width=\"800\" height=\"800\"/></center>"
   ]
  },
  {
   "cell_type": "markdown",
   "metadata": {
    "slideshow": {
     "slide_type": "subslide"
    }
   },
   "source": [
    "## What lib to use\n",
    "- Flask https://flask.palletsprojects.com/en/1.1.x/quickstart/#\n",
    "- django https://docs.djangoproject.com/en/3.1/intro/tutorial01/"
   ]
  },
  {
   "cell_type": "markdown",
   "metadata": {
    "slideshow": {
     "slide_type": "subslide"
    }
   },
   "source": [
    "## Flask server"
   ]
  },
  {
   "cell_type": "code",
   "execution_count": 1,
   "metadata": {},
   "outputs": [],
   "source": [
    "from flask import Flask\n",
    "app = Flask(__name__)\n",
    "\n",
    "@app.route('/')\n",
    "def hello_world():\n",
    "    return 'Hello, World!'"
   ]
  },
  {
   "cell_type": "code",
   "execution_count": null,
   "metadata": {},
   "outputs": [],
   "source": [
    "$ export FLASK_APP=hello.py\n",
    "$ flask run"
   ]
  },
  {
   "cell_type": "markdown",
   "metadata": {
    "slideshow": {
     "slide_type": "slide"
    }
   },
   "source": [
    "# Where host your sevices\n",
    "- Google Cloud https://console.cloud.google.com/\n",
    "- Amazon Web Services https://aws.amazon.com/\n",
    "- Microsoft Azure https://azure.microsoft.com/"
   ]
  },
  {
   "cell_type": "markdown",
   "metadata": {
    "slideshow": {
     "slide_type": "fragment"
    }
   },
   "source": [
    "# Easy tutorial\n",
    "https://cloud.google.com/community/tutorials/compute-short-quickstart"
   ]
  },
  {
   "cell_type": "markdown",
   "metadata": {
    "slideshow": {
     "slide_type": "slide"
    }
   },
   "source": [
    "# tmux\n",
    "\n",
    "https://lukaszwrobel.pl/blog/tmux-tutorial-split-terminal-windows-easily/"
   ]
  },
  {
   "cell_type": "markdown",
   "metadata": {
    "slideshow": {
     "slide_type": "slide"
    }
   },
   "source": [
    "# Work on projects"
   ]
  },
  {
   "cell_type": "markdown",
   "metadata": {
    "slideshow": {
     "slide_type": "slide"
    }
   },
   "source": [
    "# Resourses\n",
    "- https://www.fullstackpython.com/web-servers.html"
   ]
  },
  {
   "cell_type": "code",
   "execution_count": null,
   "metadata": {},
   "outputs": [],
   "source": []
  }
 ],
 "metadata": {
  "celltoolbar": "Slideshow",
  "kernelspec": {
   "display_name": "Python 3",
   "language": "python",
   "name": "python3"
  },
  "language_info": {
   "codemirror_mode": {
    "name": "ipython",
    "version": 3
   },
   "file_extension": ".py",
   "mimetype": "text/x-python",
   "name": "python",
   "nbconvert_exporter": "python",
   "pygments_lexer": "ipython3",
   "version": "3.7.4"
  }
 },
 "nbformat": 4,
 "nbformat_minor": 2
}
